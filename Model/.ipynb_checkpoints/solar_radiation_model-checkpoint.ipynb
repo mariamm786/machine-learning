{
 "cells": [
  {
   "cell_type": "code",
   "execution_count": 1,
   "id": "554ec4c2",
   "metadata": {},
   "outputs": [],
   "source": [
    "import numpy as np\n",
    "import pandas as pd\n",
    "from sklearn.model_selection import train_test_split\n",
    "from sklearn.pipeline import make_pipeline\n",
    "from sklearn.preprocessing import StandardScaler\n",
    "from sklearn.ensemble import RandomForestRegressor\n",
    "from sklearn.metrics import mean_squared_error, r2_score\n",
    "from sklearn.model_selection import cross_val_score, KFold"
   ]
  },
  {
   "cell_type": "code",
   "execution_count": 2,
   "id": "b2c710a0",
   "metadata": {},
   "outputs": [],
   "source": [
    "df=pd.read_csv(\"./dataset/solar_radiation_cleaned.csv\")"
   ]
  },
  {
   "cell_type": "markdown",
   "id": "0fa6d1de",
   "metadata": {},
   "source": [
    "# Feature-Target and Train-test separation"
   ]
  },
  {
   "cell_type": "code",
   "execution_count": 3,
   "id": "15936ab3",
   "metadata": {},
   "outputs": [],
   "source": [
    "features = df[['dni','dhi','air_temperature', 'relative_humidity', 'wind_speed', 'wind_speed_of_gust', 'wind_from_direction', 'barometric_pressure']]\n",
    "target = df['ghi_pyr']\n",
    "X_train, X_test, y_train, y_test = train_test_split(features, target, test_size=0.2, random_state=42)"
   ]
  },
  {
   "cell_type": "markdown",
   "id": "f7431637",
   "metadata": {},
   "source": [
    "# Random Forest Regressor"
   ]
  },
  {
   "cell_type": "code",
   "execution_count": 4,
   "id": "479adee1",
   "metadata": {},
   "outputs": [],
   "source": [
    "model = make_pipeline(StandardScaler(), RandomForestRegressor(n_estimators=200, random_state=42))\n",
    "model.fit(X_train, y_train)\n",
    "y_pred = model.predict(X_test)"
   ]
  },
  {
   "cell_type": "markdown",
   "id": "f27da36f",
   "metadata": {},
   "source": [
    "# Metrics"
   ]
  },
  {
   "cell_type": "code",
   "execution_count": 5,
   "id": "47758a3c",
   "metadata": {},
   "outputs": [
    {
     "name": "stdout",
     "output_type": "stream",
     "text": [
      "MSE: 2106.0084538504166\n",
      "RMSE: 45.891267729824335\n",
      "R2: 0.9718269402366054\n"
     ]
    }
   ],
   "source": [
    "mse = mean_squared_error(y_test, y_pred)\n",
    "rmse = mean_squared_error(y_test, y_pred, squared=False)\n",
    "r2 = r2_score(y_test, y_pred)\n",
    "print(f\"MSE: {mse}\")\n",
    "print(f\"RMSE: {rmse}\")\n",
    "print(f\"R2: {r2}\")"
   ]
  },
  {
   "cell_type": "markdown",
   "id": "4c8ada3a",
   "metadata": {},
   "source": [
    "# Cross-validation"
   ]
  },
  {
   "cell_type": "code",
   "execution_count": null,
   "id": "382bfe31",
   "metadata": {},
   "outputs": [],
   "source": [
    "num_folds = 5 \n",
    "kf = KFold(n_splits=num_folds, shuffle=True, random_state=42)\n",
    "r2_scores = cross_val_score(model, features, target, cv=kf, scoring='r2')\n",
    "mse_scores = cross_val_score(model, features, target, cv=kf, scoring='neg_mean_squared_error')\n",
    "rmse_scores = np.sqrt(-mse_scores)\n",
    "print(f\"Cross-Validation R2 Scores: {r2_scores} \\n\")\n",
    "print(f\"Mean R2 Score: {np.mean(r2_scores)} \\n\")\n",
    "print(f\"\\nCross-Validation RMSE Scores: {rmse_scores} \\n\")\n",
    "print(f\"Mean RMSE Score: {np.mean(rmse_scores)} \\n\")"
   ]
  }
 ],
 "metadata": {
  "kernelspec": {
   "display_name": "Python 3 (ipykernel)",
   "language": "python",
   "name": "python3"
  },
  "language_info": {
   "codemirror_mode": {
    "name": "ipython",
    "version": 3
   },
   "file_extension": ".py",
   "mimetype": "text/x-python",
   "name": "python",
   "nbconvert_exporter": "python",
   "pygments_lexer": "ipython3",
   "version": "3.10.9"
  }
 },
 "nbformat": 4,
 "nbformat_minor": 5
}
