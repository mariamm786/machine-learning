{
 "cells": [
  {
   "cell_type": "code",
   "execution_count": 1,
   "id": "83e0820d",
   "metadata": {},
   "outputs": [],
   "source": [
    "import pandas as pd\n",
    "import numpy as np\n",
    "from sklearn.preprocessing import LabelEncoder\n",
    "from sklearn.model_selection import train_test_split\n",
    "from sklearn.ensemble import GradientBoostingClassifier\n",
    "from xgboost import XGBClassifier\n",
    "import warnings\n",
    "warnings.filterwarnings('ignore')"
   ]
  },
  {
   "cell_type": "code",
   "execution_count": 2,
   "id": "cb36300c",
   "metadata": {},
   "outputs": [],
   "source": [
    "df=pd.read_csv(\"./dataset/weather_dataset_cleaned.csv\")"
   ]
  },
  {
   "cell_type": "code",
   "execution_count": 3,
   "id": "139cc568",
   "metadata": {},
   "outputs": [],
   "source": [
    "df=df.drop([\"date\"],axis=1)"
   ]
  },
  {
   "cell_type": "markdown",
   "id": "7b9629ea",
   "metadata": {},
   "source": [
    "# Eliminating outliers"
   ]
  },
  {
   "cell_type": "code",
   "execution_count": 4,
   "id": "a8df820a",
   "metadata": {},
   "outputs": [],
   "source": [
    "Q1=df.quantile(0.25)\n",
    "Q3=df.quantile(0.75)\n",
    "IQR=Q3-Q1\n",
    "df=df[~((df<(Q1-1.5*IQR))|(df>(Q3+1.5*IQR))).any(axis=1)]"
   ]
  },
  {
   "cell_type": "markdown",
   "id": "53198ee0",
   "metadata": {},
   "source": [
    "# Skew-unskew"
   ]
  },
  {
   "cell_type": "code",
   "execution_count": 5,
   "id": "b2c88171",
   "metadata": {},
   "outputs": [],
   "source": [
    "df.precipitation=np.sqrt(df.precipitation)\n",
    "df.wind=np.sqrt(df.wind)"
   ]
  },
  {
   "cell_type": "markdown",
   "id": "88f91785",
   "metadata": {},
   "source": [
    "# Label encoding (categorical to numerical)"
   ]
  },
  {
   "cell_type": "code",
   "execution_count": 6,
   "id": "fc7570d2",
   "metadata": {},
   "outputs": [],
   "source": [
    "lc=LabelEncoder()\n",
    "df[\"weather\"]=lc.fit_transform(df[\"weather\"])"
   ]
  },
  {
   "cell_type": "code",
   "execution_count": 7,
   "id": "5bade9ea",
   "metadata": {},
   "outputs": [],
   "source": [
    "x=((df.loc[:,df.columns!=\"weather\"]).astype(int)).values[:,0:]\n",
    "y=df[\"weather\"].values\n",
    "x_train,x_test,y_train,y_test=train_test_split(x,y,test_size=0.1,random_state=2)"
   ]
  },
  {
   "cell_type": "markdown",
   "id": "73538733",
   "metadata": {},
   "source": [
    "# Gradient Boost Classifier"
   ]
  },
  {
   "cell_type": "code",
   "execution_count": 8,
   "id": "d696ef28",
   "metadata": {},
   "outputs": [
    {
     "name": "stdout",
     "output_type": "stream",
     "text": [
      "Gradient Boosting Accuracy:83.06%\n"
     ]
    }
   ],
   "source": [
    "gbc=GradientBoostingClassifier(subsample=0.5,n_estimators=450,max_depth=5,max_leaf_nodes=25)\n",
    "gbc.fit(x_train,y_train)\n",
    "print(\"Gradient Boosting Accuracy:{:.2f}%\".format(gbc.score(x_test,y_test)*100))"
   ]
  },
  {
   "cell_type": "markdown",
   "id": "883f923e",
   "metadata": {},
   "source": [
    "# XGBoost Classifier"
   ]
  },
  {
   "cell_type": "code",
   "execution_count": 9,
   "id": "0d821cef",
   "metadata": {},
   "outputs": [
    {
     "name": "stdout",
     "output_type": "stream",
     "text": [
      "XGB Accuracy:82.26%\n"
     ]
    }
   ],
   "source": [
    "xgb=XGBClassifier()\n",
    "xgb.fit(x_train,y_train)\n",
    "print(\"XGB Accuracy:{:.2f}%\".format(xgb.score(x_test,y_test)*100))"
   ]
  }
 ],
 "metadata": {
  "kernelspec": {
   "display_name": "Python 3 (ipykernel)",
   "language": "python",
   "name": "python3"
  },
  "language_info": {
   "codemirror_mode": {
    "name": "ipython",
    "version": 3
   },
   "file_extension": ".py",
   "mimetype": "text/x-python",
   "name": "python",
   "nbconvert_exporter": "python",
   "pygments_lexer": "ipython3",
   "version": "3.10.9"
  }
 },
 "nbformat": 4,
 "nbformat_minor": 5
}
